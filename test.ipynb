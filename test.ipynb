{
 "cells": [
  {
   "cell_type": "code",
   "execution_count": 9,
   "metadata": {},
   "outputs": [],
   "source": [
    "def printM(M):\n",
    "    n, m = len(M), len(M[0])\n",
    "    print(\"------------------------------------------\\nprint matrix\\n\")\n",
    "    for i in range(n):\n",
    "        for j in range(m):\n",
    "            print(\"%3d\" % M[i][j], end=\" \")\n",
    "        print()\n",
    "    print(\"\\nprint matrix end\\n------------------------------------------\")\n",
    "    "
   ]
  },
  {
   "cell_type": "code",
   "execution_count": 7,
   "metadata": {},
   "outputs": [
    {
     "name": "stdout",
     "output_type": "stream",
     "text": [
      "[[(0, 0), (1, 1)], [(0, 0), (2, 2)]]\n",
      "[[(0, 0), (1, 1)], [(0, 0), (2, 2), [3, 3]]]\n"
     ]
    }
   ],
   "source": [
    "a=[[(0,0),(1,1)],[(0,0),(2,2)]]\n",
    "print(a)\n",
    "a[1].append([3,3])\n",
    "print(a)"
   ]
  },
  {
   "cell_type": "code",
   "execution_count": 1,
   "metadata": {},
   "outputs": [
    {
     "name": "stdout",
     "output_type": "stream",
     "text": [
      "[1, 2, 3, 4, 5, 6, 7]\n"
     ]
    }
   ],
   "source": []
  },
  {
   "cell_type": "code",
   "execution_count": 10,
   "metadata": {},
   "outputs": [
    {
     "name": "stdout",
     "output_type": "stream",
     "text": [
      "['', 2, 3, 4, 5, 6, 7]\n"
     ]
    }
   ],
   "source": [
    "b= [_,2,3,4,5,6,7]\n",
    "\n",
    "print(b)"
   ]
  }
 ],
 "metadata": {
  "interpreter": {
   "hash": "8343e1279b8e1549563b406b02efaa63e68e704dfedc67139835435c2e0dd82f"
  },
  "kernelspec": {
   "display_name": "Python 3.9.5 64-bit ('base': conda)",
   "name": "python3"
  },
  "language_info": {
   "codemirror_mode": {
    "name": "ipython",
    "version": 3
   },
   "file_extension": ".py",
   "mimetype": "text/x-python",
   "name": "python",
   "nbconvert_exporter": "python",
   "pygments_lexer": "ipython3",
   "version": "3.9.5"
  },
  "orig_nbformat": 4
 },
 "nbformat": 4,
 "nbformat_minor": 2
}
